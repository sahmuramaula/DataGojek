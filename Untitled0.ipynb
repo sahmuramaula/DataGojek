{
  "nbformat": 4,
  "nbformat_minor": 0,
  "metadata": {
    "colab": {
      "name": "Untitled0.ipynb",
      "provenance": [],
      "mount_file_id": "1keXdXQRlEmWNvSA3q_A60qiAzcAkXogP",
      "authorship_tag": "ABX9TyMKnNHw5V5fLItUSRE85+Z2",
      "include_colab_link": true
    },
    "kernelspec": {
      "name": "python3",
      "display_name": "Python 3"
    },
    "language_info": {
      "name": "python"
    }
  },
  "cells": [
    {
      "cell_type": "markdown",
      "metadata": {
        "id": "view-in-github",
        "colab_type": "text"
      },
      "source": [
        "<a href=\"https://colab.research.google.com/github/sahmuramaula/DataGojek/blob/main/Untitled0.ipynb\" target=\"_parent\"><img src=\"https://colab.research.google.com/assets/colab-badge.svg\" alt=\"Open In Colab\"/></a>"
      ]
    },
    {
      "cell_type": "markdown",
      "metadata": {
        "id": "k3IFqd9YbC4A"
      },
      "source": [
        "#Import Library dan Dataset"
      ]
    },
    {
      "cell_type": "code",
      "metadata": {
        "id": "Jk7xGuHxbPEg"
      },
      "source": [
        "import pandas as pd\n",
        "import matplotlib.pyplot as plt"
      ],
      "execution_count": 1,
      "outputs": []
    },
    {
      "cell_type": "code",
      "metadata": {
        "id": "gAzlSKbfbUvw"
      },
      "source": [
        "df=pd.read_csv('/content/drive/MyDrive/Sains/food_delivery_datasets.csv')"
      ],
      "execution_count": 2,
      "outputs": []
    },
    {
      "cell_type": "code",
      "metadata": {
        "colab": {
          "base_uri": "https://localhost:8080/",
          "height": 617
        },
        "id": "98oN0bYjb2yf",
        "outputId": "7782a4cd-4040-4d54-a8bf-5e041f75d5c6"
      },
      "source": [
        "df #menlihat data keseluruhan"
      ],
      "execution_count": 3,
      "outputs": [
        {
          "output_type": "execute_result",
          "data": {
            "text/html": [
              "<div>\n",
              "<style scoped>\n",
              "    .dataframe tbody tr th:only-of-type {\n",
              "        vertical-align: middle;\n",
              "    }\n",
              "\n",
              "    .dataframe tbody tr th {\n",
              "        vertical-align: top;\n",
              "    }\n",
              "\n",
              "    .dataframe thead th {\n",
              "        text-align: right;\n",
              "    }\n",
              "</style>\n",
              "<table border=\"1\" class=\"dataframe\">\n",
              "  <thead>\n",
              "    <tr style=\"text-align: right;\">\n",
              "      <th></th>\n",
              "      <th>order_id</th>\n",
              "      <th>voucher_amount</th>\n",
              "      <th>date_time</th>\n",
              "      <th>eta_seconds</th>\n",
              "      <th>food_price</th>\n",
              "      <th>cust_id</th>\n",
              "      <th>rating</th>\n",
              "      <th>delivery_fee</th>\n",
              "      <th>resto_id</th>\n",
              "      <th>status</th>\n",
              "      <th>random_id</th>\n",
              "    </tr>\n",
              "  </thead>\n",
              "  <tbody>\n",
              "    <tr>\n",
              "      <th>0</th>\n",
              "      <td>FOOD-10455</td>\n",
              "      <td>0</td>\n",
              "      <td>2018-08-12T20:35:08.001006</td>\n",
              "      <td>1800</td>\n",
              "      <td>18900</td>\n",
              "      <td>1089034</td>\n",
              "      <td>5.0</td>\n",
              "      <td>4000</td>\n",
              "      <td>742638033</td>\n",
              "      <td>Completed</td>\n",
              "      <td>0.511149</td>\n",
              "    </tr>\n",
              "    <tr>\n",
              "      <th>1</th>\n",
              "      <td>FOOD-10985</td>\n",
              "      <td>0</td>\n",
              "      <td>2018-09-23T17:44:12.243273</td>\n",
              "      <td>2173</td>\n",
              "      <td>149000</td>\n",
              "      <td>180146</td>\n",
              "      <td>5.0</td>\n",
              "      <td>11000</td>\n",
              "      <td>742767245</td>\n",
              "      <td>Completed</td>\n",
              "      <td>0.832936</td>\n",
              "    </tr>\n",
              "    <tr>\n",
              "      <th>2</th>\n",
              "      <td>FOOD-10911</td>\n",
              "      <td>0</td>\n",
              "      <td>2018-09-19T18:08:09.387991</td>\n",
              "      <td>1418</td>\n",
              "      <td>43800</td>\n",
              "      <td>366528</td>\n",
              "      <td>NaN</td>\n",
              "      <td>9000</td>\n",
              "      <td>742618303</td>\n",
              "      <td>Completed</td>\n",
              "      <td>0.828026</td>\n",
              "    </tr>\n",
              "    <tr>\n",
              "      <th>3</th>\n",
              "      <td>FOOD-10932</td>\n",
              "      <td>0</td>\n",
              "      <td>2018-09-21T01:24:35.272499</td>\n",
              "      <td>1903</td>\n",
              "      <td>39900</td>\n",
              "      <td>511038</td>\n",
              "      <td>5.0</td>\n",
              "      <td>14000</td>\n",
              "      <td>742541172</td>\n",
              "      <td>Completed</td>\n",
              "      <td>0.239377</td>\n",
              "    </tr>\n",
              "    <tr>\n",
              "      <th>4</th>\n",
              "      <td>FOOD-10961</td>\n",
              "      <td>0</td>\n",
              "      <td>2018-09-22T17:57:45.523161</td>\n",
              "      <td>1716</td>\n",
              "      <td>77700</td>\n",
              "      <td>1220358</td>\n",
              "      <td>NaN</td>\n",
              "      <td>4000</td>\n",
              "      <td>742604875</td>\n",
              "      <td>Completed</td>\n",
              "      <td>0.995587</td>\n",
              "    </tr>\n",
              "    <tr>\n",
              "      <th>...</th>\n",
              "      <td>...</td>\n",
              "      <td>...</td>\n",
              "      <td>...</td>\n",
              "      <td>...</td>\n",
              "      <td>...</td>\n",
              "      <td>...</td>\n",
              "      <td>...</td>\n",
              "      <td>...</td>\n",
              "      <td>...</td>\n",
              "      <td>...</td>\n",
              "      <td>...</td>\n",
              "    </tr>\n",
              "    <tr>\n",
              "      <th>1071</th>\n",
              "      <td>FOOD-10921</td>\n",
              "      <td>0</td>\n",
              "      <td>2018-09-20T15:01:52.152828</td>\n",
              "      <td>900</td>\n",
              "      <td>103200</td>\n",
              "      <td>1296335</td>\n",
              "      <td>5.0</td>\n",
              "      <td>4000</td>\n",
              "      <td>742742150</td>\n",
              "      <td>Completed</td>\n",
              "      <td>0.248328</td>\n",
              "    </tr>\n",
              "    <tr>\n",
              "      <th>1072</th>\n",
              "      <td>FOOD-10265</td>\n",
              "      <td>5000</td>\n",
              "      <td>2018-07-26T14:43:23.655294</td>\n",
              "      <td>1579</td>\n",
              "      <td>145700</td>\n",
              "      <td>1135466</td>\n",
              "      <td>5.0</td>\n",
              "      <td>7000</td>\n",
              "      <td>742566851</td>\n",
              "      <td>Completed</td>\n",
              "      <td>0.268251</td>\n",
              "    </tr>\n",
              "    <tr>\n",
              "      <th>1073</th>\n",
              "      <td>FOOD-10534</td>\n",
              "      <td>0</td>\n",
              "      <td>2018-08-21T20:10:59.283185</td>\n",
              "      <td>2606</td>\n",
              "      <td>177200</td>\n",
              "      <td>1383625</td>\n",
              "      <td>NaN</td>\n",
              "      <td>15000</td>\n",
              "      <td>742571888</td>\n",
              "      <td>Completed</td>\n",
              "      <td>0.132528</td>\n",
              "    </tr>\n",
              "    <tr>\n",
              "      <th>1074</th>\n",
              "      <td>FOOD-10158</td>\n",
              "      <td>0</td>\n",
              "      <td>2018-07-16T14:42:23.214427</td>\n",
              "      <td>2428</td>\n",
              "      <td>49300</td>\n",
              "      <td>1094787</td>\n",
              "      <td>5.0</td>\n",
              "      <td>9000</td>\n",
              "      <td>742725064</td>\n",
              "      <td>Completed</td>\n",
              "      <td>0.167946</td>\n",
              "    </tr>\n",
              "    <tr>\n",
              "      <th>1075</th>\n",
              "      <td>FOOD-10770</td>\n",
              "      <td>0</td>\n",
              "      <td>2018-09-11T14:18:19.494258</td>\n",
              "      <td>1547</td>\n",
              "      <td>43000</td>\n",
              "      <td>1010922</td>\n",
              "      <td>5.0</td>\n",
              "      <td>9000</td>\n",
              "      <td>742594499</td>\n",
              "      <td>Completed</td>\n",
              "      <td>0.358051</td>\n",
              "    </tr>\n",
              "  </tbody>\n",
              "</table>\n",
              "<p>1076 rows × 11 columns</p>\n",
              "</div>"
            ],
            "text/plain": [
              "        order_id  voucher_amount  ...     status  random_id\n",
              "0     FOOD-10455               0  ...  Completed   0.511149\n",
              "1     FOOD-10985               0  ...  Completed   0.832936\n",
              "2     FOOD-10911               0  ...  Completed   0.828026\n",
              "3     FOOD-10932               0  ...  Completed   0.239377\n",
              "4     FOOD-10961               0  ...  Completed   0.995587\n",
              "...          ...             ...  ...        ...        ...\n",
              "1071  FOOD-10921               0  ...  Completed   0.248328\n",
              "1072  FOOD-10265            5000  ...  Completed   0.268251\n",
              "1073  FOOD-10534               0  ...  Completed   0.132528\n",
              "1074  FOOD-10158               0  ...  Completed   0.167946\n",
              "1075  FOOD-10770               0  ...  Completed   0.358051\n",
              "\n",
              "[1076 rows x 11 columns]"
            ]
          },
          "metadata": {},
          "execution_count": 3
        }
      ]
    },
    {
      "cell_type": "code",
      "metadata": {
        "colab": {
          "base_uri": "https://localhost:8080/",
          "height": 118
        },
        "id": "7yq79QKPgITm",
        "outputId": "834805f1-2094-48f1-df71-b270fd46949a"
      },
      "source": [
        "df[df['food_price'] == df['food_price'].max()]"
      ],
      "execution_count": 23,
      "outputs": [
        {
          "output_type": "execute_result",
          "data": {
            "text/html": [
              "<div>\n",
              "<style scoped>\n",
              "    .dataframe tbody tr th:only-of-type {\n",
              "        vertical-align: middle;\n",
              "    }\n",
              "\n",
              "    .dataframe tbody tr th {\n",
              "        vertical-align: top;\n",
              "    }\n",
              "\n",
              "    .dataframe thead th {\n",
              "        text-align: right;\n",
              "    }\n",
              "</style>\n",
              "<table border=\"1\" class=\"dataframe\">\n",
              "  <thead>\n",
              "    <tr style=\"text-align: right;\">\n",
              "      <th></th>\n",
              "      <th>order_id</th>\n",
              "      <th>voucher_amount</th>\n",
              "      <th>date_time</th>\n",
              "      <th>eta_seconds</th>\n",
              "      <th>food_price</th>\n",
              "      <th>cust_id</th>\n",
              "      <th>rating</th>\n",
              "      <th>delivery_fee</th>\n",
              "      <th>resto_id</th>\n",
              "      <th>status</th>\n",
              "      <th>random_id</th>\n",
              "    </tr>\n",
              "  </thead>\n",
              "  <tbody>\n",
              "    <tr>\n",
              "      <th>128</th>\n",
              "      <td>FOOD-10212</td>\n",
              "      <td>0</td>\n",
              "      <td>2018-07-21T18:55:34.457186</td>\n",
              "      <td>2723</td>\n",
              "      <td>448500</td>\n",
              "      <td>1484937</td>\n",
              "      <td>5.0</td>\n",
              "      <td>13000</td>\n",
              "      <td>742526785</td>\n",
              "      <td>Completed</td>\n",
              "      <td>0.469235</td>\n",
              "    </tr>\n",
              "  </tbody>\n",
              "</table>\n",
              "</div>"
            ],
            "text/plain": [
              "       order_id  voucher_amount  ...     status  random_id\n",
              "128  FOOD-10212               0  ...  Completed   0.469235\n",
              "\n",
              "[1 rows x 11 columns]"
            ]
          },
          "metadata": {},
          "execution_count": 23
        }
      ]
    },
    {
      "cell_type": "code",
      "metadata": {
        "colab": {
          "base_uri": "https://localhost:8080/",
          "height": 118
        },
        "id": "mipmYQ7tiZM7",
        "outputId": "6a4c578f-2abd-4254-c569-2a9184bae0a4"
      },
      "source": [
        "df[df['food_price'] == df['food_price'].min()]"
      ],
      "execution_count": 22,
      "outputs": [
        {
          "output_type": "execute_result",
          "data": {
            "text/html": [
              "<div>\n",
              "<style scoped>\n",
              "    .dataframe tbody tr th:only-of-type {\n",
              "        vertical-align: middle;\n",
              "    }\n",
              "\n",
              "    .dataframe tbody tr th {\n",
              "        vertical-align: top;\n",
              "    }\n",
              "\n",
              "    .dataframe thead th {\n",
              "        text-align: right;\n",
              "    }\n",
              "</style>\n",
              "<table border=\"1\" class=\"dataframe\">\n",
              "  <thead>\n",
              "    <tr style=\"text-align: right;\">\n",
              "      <th></th>\n",
              "      <th>order_id</th>\n",
              "      <th>voucher_amount</th>\n",
              "      <th>date_time</th>\n",
              "      <th>eta_seconds</th>\n",
              "      <th>food_price</th>\n",
              "      <th>cust_id</th>\n",
              "      <th>rating</th>\n",
              "      <th>delivery_fee</th>\n",
              "      <th>resto_id</th>\n",
              "      <th>status</th>\n",
              "      <th>random_id</th>\n",
              "    </tr>\n",
              "  </thead>\n",
              "  <tbody>\n",
              "    <tr>\n",
              "      <th>202</th>\n",
              "      <td>FOOD-10654</td>\n",
              "      <td>0</td>\n",
              "      <td>2018-09-01T17:22:30.082466</td>\n",
              "      <td>1701</td>\n",
              "      <td>12900</td>\n",
              "      <td>1284060</td>\n",
              "      <td>5.0</td>\n",
              "      <td>9000</td>\n",
              "      <td>742624235</td>\n",
              "      <td>Completed</td>\n",
              "      <td>0.716985</td>\n",
              "    </tr>\n",
              "  </tbody>\n",
              "</table>\n",
              "</div>"
            ],
            "text/plain": [
              "       order_id  voucher_amount  ...     status  random_id\n",
              "202  FOOD-10654               0  ...  Completed   0.716985\n",
              "\n",
              "[1 rows x 11 columns]"
            ]
          },
          "metadata": {},
          "execution_count": 22
        }
      ]
    }
  ]
}